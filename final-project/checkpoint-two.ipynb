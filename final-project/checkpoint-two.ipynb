{
 "cells": [
  {
   "attachments": {},
   "cell_type": "markdown",
   "metadata": {
    "azdata_cell_guid": "151601c9-ca7a-412e-af80-c62a87e0837e"
   },
   "source": [
    "# Checkpoint Two: Exploratory Data Analysis\n",
    "\n",
    "Now that your chosen dataset is approved, it is time to start working on your analysis. Use this notebook to perform your EDA and make notes where directed to as you work.\n",
    "\n",
    "## Getting Started\n",
    "\n",
    "Since we have not provided your dataset for you, you will need to load the necessary files in this repository. Make sure to include a link back to the original dataset here as well.\n",
    "\n",
    "My dataset:\n",
    "\n",
    "Your first task in EDA is to import necessary libraries and create a dataframe(s). Make note in the form of code comments of what your thought process is as you work on this setup task."
   ]
  },
  {
   "cell_type": "code",
   "execution_count": 1,
   "metadata": {
    "azdata_cell_guid": "7b503e37-6df5-4433-acfb-678b1346db14"
   },
   "outputs": [],
   "source": [
    "import pandas as pd\n",
    "import numpy as np\n",
    "import matplotlib.pyplot as plt\n",
    "import seaborn as sns\n",
    "\n",
    "df = pd.read_csv(r\"C:\\Users\\Devin\\OneDrive\\Documents\\Launchcode\\python\\data-analysis-projects\\eda-checkpoint\\archive (2)\\Impact_of_Remote_Work_on_Mental_Health.csv\")"
   ]
  },
  {
   "cell_type": "code",
   "execution_count": 2,
   "metadata": {},
   "outputs": [
    {
     "data": {
      "text/html": [
       "<div>\n",
       "<style scoped>\n",
       "    .dataframe tbody tr th:only-of-type {\n",
       "        vertical-align: middle;\n",
       "    }\n",
       "\n",
       "    .dataframe tbody tr th {\n",
       "        vertical-align: top;\n",
       "    }\n",
       "\n",
       "    .dataframe thead th {\n",
       "        text-align: right;\n",
       "    }\n",
       "</style>\n",
       "<table border=\"1\" class=\"dataframe\">\n",
       "  <thead>\n",
       "    <tr style=\"text-align: right;\">\n",
       "      <th></th>\n",
       "      <th>Employee_ID</th>\n",
       "      <th>Age</th>\n",
       "      <th>Gender</th>\n",
       "      <th>Job_Role</th>\n",
       "      <th>Industry</th>\n",
       "      <th>Years_of_Experience</th>\n",
       "      <th>Work_Location</th>\n",
       "      <th>Hours_Worked_Per_Week</th>\n",
       "      <th>Number_of_Virtual_Meetings</th>\n",
       "      <th>Work_Life_Balance_Rating</th>\n",
       "      <th>Stress_Level</th>\n",
       "      <th>Mental_Health_Condition</th>\n",
       "      <th>Access_to_Mental_Health_Resources</th>\n",
       "      <th>Productivity_Change</th>\n",
       "      <th>Social_Isolation_Rating</th>\n",
       "      <th>Satisfaction_with_Remote_Work</th>\n",
       "      <th>Company_Support_for_Remote_Work</th>\n",
       "      <th>Physical_Activity</th>\n",
       "      <th>Sleep_Quality</th>\n",
       "      <th>Region</th>\n",
       "    </tr>\n",
       "  </thead>\n",
       "  <tbody>\n",
       "    <tr>\n",
       "      <th>0</th>\n",
       "      <td>EMP0001</td>\n",
       "      <td>32</td>\n",
       "      <td>Non-binary</td>\n",
       "      <td>HR</td>\n",
       "      <td>Healthcare</td>\n",
       "      <td>13</td>\n",
       "      <td>Hybrid</td>\n",
       "      <td>47</td>\n",
       "      <td>7</td>\n",
       "      <td>2</td>\n",
       "      <td>Medium</td>\n",
       "      <td>Depression</td>\n",
       "      <td>No</td>\n",
       "      <td>Decrease</td>\n",
       "      <td>1</td>\n",
       "      <td>Unsatisfied</td>\n",
       "      <td>1</td>\n",
       "      <td>Weekly</td>\n",
       "      <td>Good</td>\n",
       "      <td>Europe</td>\n",
       "    </tr>\n",
       "    <tr>\n",
       "      <th>1</th>\n",
       "      <td>EMP0002</td>\n",
       "      <td>40</td>\n",
       "      <td>Female</td>\n",
       "      <td>Data Scientist</td>\n",
       "      <td>IT</td>\n",
       "      <td>3</td>\n",
       "      <td>Remote</td>\n",
       "      <td>52</td>\n",
       "      <td>4</td>\n",
       "      <td>1</td>\n",
       "      <td>Medium</td>\n",
       "      <td>Anxiety</td>\n",
       "      <td>No</td>\n",
       "      <td>Increase</td>\n",
       "      <td>3</td>\n",
       "      <td>Satisfied</td>\n",
       "      <td>2</td>\n",
       "      <td>Weekly</td>\n",
       "      <td>Good</td>\n",
       "      <td>Asia</td>\n",
       "    </tr>\n",
       "    <tr>\n",
       "      <th>2</th>\n",
       "      <td>EMP0003</td>\n",
       "      <td>59</td>\n",
       "      <td>Non-binary</td>\n",
       "      <td>Software Engineer</td>\n",
       "      <td>Education</td>\n",
       "      <td>22</td>\n",
       "      <td>Hybrid</td>\n",
       "      <td>46</td>\n",
       "      <td>11</td>\n",
       "      <td>5</td>\n",
       "      <td>Medium</td>\n",
       "      <td>Anxiety</td>\n",
       "      <td>No</td>\n",
       "      <td>No Change</td>\n",
       "      <td>4</td>\n",
       "      <td>Unsatisfied</td>\n",
       "      <td>5</td>\n",
       "      <td>NaN</td>\n",
       "      <td>Poor</td>\n",
       "      <td>North America</td>\n",
       "    </tr>\n",
       "    <tr>\n",
       "      <th>3</th>\n",
       "      <td>EMP0004</td>\n",
       "      <td>27</td>\n",
       "      <td>Male</td>\n",
       "      <td>Software Engineer</td>\n",
       "      <td>Finance</td>\n",
       "      <td>20</td>\n",
       "      <td>Onsite</td>\n",
       "      <td>32</td>\n",
       "      <td>8</td>\n",
       "      <td>4</td>\n",
       "      <td>High</td>\n",
       "      <td>Depression</td>\n",
       "      <td>Yes</td>\n",
       "      <td>Increase</td>\n",
       "      <td>3</td>\n",
       "      <td>Unsatisfied</td>\n",
       "      <td>3</td>\n",
       "      <td>NaN</td>\n",
       "      <td>Poor</td>\n",
       "      <td>Europe</td>\n",
       "    </tr>\n",
       "    <tr>\n",
       "      <th>4</th>\n",
       "      <td>EMP0005</td>\n",
       "      <td>49</td>\n",
       "      <td>Male</td>\n",
       "      <td>Sales</td>\n",
       "      <td>Consulting</td>\n",
       "      <td>32</td>\n",
       "      <td>Onsite</td>\n",
       "      <td>35</td>\n",
       "      <td>12</td>\n",
       "      <td>2</td>\n",
       "      <td>High</td>\n",
       "      <td>NaN</td>\n",
       "      <td>Yes</td>\n",
       "      <td>Decrease</td>\n",
       "      <td>3</td>\n",
       "      <td>Unsatisfied</td>\n",
       "      <td>3</td>\n",
       "      <td>Weekly</td>\n",
       "      <td>Average</td>\n",
       "      <td>North America</td>\n",
       "    </tr>\n",
       "    <tr>\n",
       "      <th>5</th>\n",
       "      <td>EMP0006</td>\n",
       "      <td>59</td>\n",
       "      <td>Non-binary</td>\n",
       "      <td>Sales</td>\n",
       "      <td>IT</td>\n",
       "      <td>31</td>\n",
       "      <td>Hybrid</td>\n",
       "      <td>39</td>\n",
       "      <td>3</td>\n",
       "      <td>4</td>\n",
       "      <td>High</td>\n",
       "      <td>NaN</td>\n",
       "      <td>No</td>\n",
       "      <td>Increase</td>\n",
       "      <td>5</td>\n",
       "      <td>Unsatisfied</td>\n",
       "      <td>1</td>\n",
       "      <td>NaN</td>\n",
       "      <td>Average</td>\n",
       "      <td>South America</td>\n",
       "    </tr>\n",
       "    <tr>\n",
       "      <th>6</th>\n",
       "      <td>EMP0007</td>\n",
       "      <td>31</td>\n",
       "      <td>Prefer not to say</td>\n",
       "      <td>Sales</td>\n",
       "      <td>IT</td>\n",
       "      <td>24</td>\n",
       "      <td>Remote</td>\n",
       "      <td>51</td>\n",
       "      <td>7</td>\n",
       "      <td>3</td>\n",
       "      <td>Low</td>\n",
       "      <td>Anxiety</td>\n",
       "      <td>Yes</td>\n",
       "      <td>Decrease</td>\n",
       "      <td>5</td>\n",
       "      <td>Neutral</td>\n",
       "      <td>3</td>\n",
       "      <td>Daily</td>\n",
       "      <td>Poor</td>\n",
       "      <td>Asia</td>\n",
       "    </tr>\n",
       "    <tr>\n",
       "      <th>7</th>\n",
       "      <td>EMP0008</td>\n",
       "      <td>42</td>\n",
       "      <td>Non-binary</td>\n",
       "      <td>Data Scientist</td>\n",
       "      <td>Manufacturing</td>\n",
       "      <td>6</td>\n",
       "      <td>Onsite</td>\n",
       "      <td>54</td>\n",
       "      <td>7</td>\n",
       "      <td>3</td>\n",
       "      <td>Medium</td>\n",
       "      <td>Depression</td>\n",
       "      <td>No</td>\n",
       "      <td>Decrease</td>\n",
       "      <td>5</td>\n",
       "      <td>Satisfied</td>\n",
       "      <td>4</td>\n",
       "      <td>NaN</td>\n",
       "      <td>Average</td>\n",
       "      <td>North America</td>\n",
       "    </tr>\n",
       "    <tr>\n",
       "      <th>8</th>\n",
       "      <td>EMP0009</td>\n",
       "      <td>56</td>\n",
       "      <td>Prefer not to say</td>\n",
       "      <td>Data Scientist</td>\n",
       "      <td>Healthcare</td>\n",
       "      <td>9</td>\n",
       "      <td>Hybrid</td>\n",
       "      <td>24</td>\n",
       "      <td>4</td>\n",
       "      <td>2</td>\n",
       "      <td>High</td>\n",
       "      <td>NaN</td>\n",
       "      <td>Yes</td>\n",
       "      <td>Decrease</td>\n",
       "      <td>2</td>\n",
       "      <td>Unsatisfied</td>\n",
       "      <td>4</td>\n",
       "      <td>Daily</td>\n",
       "      <td>Poor</td>\n",
       "      <td>Europe</td>\n",
       "    </tr>\n",
       "    <tr>\n",
       "      <th>9</th>\n",
       "      <td>EMP0010</td>\n",
       "      <td>30</td>\n",
       "      <td>Female</td>\n",
       "      <td>HR</td>\n",
       "      <td>IT</td>\n",
       "      <td>28</td>\n",
       "      <td>Hybrid</td>\n",
       "      <td>57</td>\n",
       "      <td>6</td>\n",
       "      <td>1</td>\n",
       "      <td>Low</td>\n",
       "      <td>Depression</td>\n",
       "      <td>Yes</td>\n",
       "      <td>Decrease</td>\n",
       "      <td>2</td>\n",
       "      <td>Neutral</td>\n",
       "      <td>1</td>\n",
       "      <td>Weekly</td>\n",
       "      <td>Poor</td>\n",
       "      <td>North America</td>\n",
       "    </tr>\n",
       "  </tbody>\n",
       "</table>\n",
       "</div>"
      ],
      "text/plain": [
       "  Employee_ID  Age             Gender           Job_Role       Industry  \\\n",
       "0     EMP0001   32         Non-binary                 HR     Healthcare   \n",
       "1     EMP0002   40             Female     Data Scientist             IT   \n",
       "2     EMP0003   59         Non-binary  Software Engineer      Education   \n",
       "3     EMP0004   27               Male  Software Engineer        Finance   \n",
       "4     EMP0005   49               Male              Sales     Consulting   \n",
       "5     EMP0006   59         Non-binary              Sales             IT   \n",
       "6     EMP0007   31  Prefer not to say              Sales             IT   \n",
       "7     EMP0008   42         Non-binary     Data Scientist  Manufacturing   \n",
       "8     EMP0009   56  Prefer not to say     Data Scientist     Healthcare   \n",
       "9     EMP0010   30             Female                 HR             IT   \n",
       "\n",
       "   Years_of_Experience Work_Location  Hours_Worked_Per_Week  \\\n",
       "0                   13        Hybrid                     47   \n",
       "1                    3        Remote                     52   \n",
       "2                   22        Hybrid                     46   \n",
       "3                   20        Onsite                     32   \n",
       "4                   32        Onsite                     35   \n",
       "5                   31        Hybrid                     39   \n",
       "6                   24        Remote                     51   \n",
       "7                    6        Onsite                     54   \n",
       "8                    9        Hybrid                     24   \n",
       "9                   28        Hybrid                     57   \n",
       "\n",
       "   Number_of_Virtual_Meetings  Work_Life_Balance_Rating Stress_Level  \\\n",
       "0                           7                         2       Medium   \n",
       "1                           4                         1       Medium   \n",
       "2                          11                         5       Medium   \n",
       "3                           8                         4         High   \n",
       "4                          12                         2         High   \n",
       "5                           3                         4         High   \n",
       "6                           7                         3          Low   \n",
       "7                           7                         3       Medium   \n",
       "8                           4                         2         High   \n",
       "9                           6                         1          Low   \n",
       "\n",
       "  Mental_Health_Condition Access_to_Mental_Health_Resources  \\\n",
       "0              Depression                                No   \n",
       "1                 Anxiety                                No   \n",
       "2                 Anxiety                                No   \n",
       "3              Depression                               Yes   \n",
       "4                     NaN                               Yes   \n",
       "5                     NaN                                No   \n",
       "6                 Anxiety                               Yes   \n",
       "7              Depression                                No   \n",
       "8                     NaN                               Yes   \n",
       "9              Depression                               Yes   \n",
       "\n",
       "  Productivity_Change  Social_Isolation_Rating Satisfaction_with_Remote_Work  \\\n",
       "0            Decrease                        1                   Unsatisfied   \n",
       "1            Increase                        3                     Satisfied   \n",
       "2           No Change                        4                   Unsatisfied   \n",
       "3            Increase                        3                   Unsatisfied   \n",
       "4            Decrease                        3                   Unsatisfied   \n",
       "5            Increase                        5                   Unsatisfied   \n",
       "6            Decrease                        5                       Neutral   \n",
       "7            Decrease                        5                     Satisfied   \n",
       "8            Decrease                        2                   Unsatisfied   \n",
       "9            Decrease                        2                       Neutral   \n",
       "\n",
       "   Company_Support_for_Remote_Work Physical_Activity Sleep_Quality  \\\n",
       "0                                1            Weekly          Good   \n",
       "1                                2            Weekly          Good   \n",
       "2                                5               NaN          Poor   \n",
       "3                                3               NaN          Poor   \n",
       "4                                3            Weekly       Average   \n",
       "5                                1               NaN       Average   \n",
       "6                                3             Daily          Poor   \n",
       "7                                4               NaN       Average   \n",
       "8                                4             Daily          Poor   \n",
       "9                                1            Weekly          Poor   \n",
       "\n",
       "          Region  \n",
       "0         Europe  \n",
       "1           Asia  \n",
       "2  North America  \n",
       "3         Europe  \n",
       "4  North America  \n",
       "5  South America  \n",
       "6           Asia  \n",
       "7  North America  \n",
       "8         Europe  \n",
       "9  North America  "
      ]
     },
     "execution_count": 2,
     "metadata": {},
     "output_type": "execute_result"
    }
   ],
   "source": [
    "df.head(10)\n",
    "# printing the first 10 rows to get an idea of the layout the data set contains"
   ]
  },
  {
   "attachments": {},
   "cell_type": "markdown",
   "metadata": {
    "azdata_cell_guid": "129ce836-524b-4ea8-b394-a959f9308d6a"
   },
   "source": [
    "## Get to Know the Numbers\n",
    "\n",
    "Now that you have everything setup, put any code that you use to get to know the dataframe and its rows and columns better in the cell below. You can use whatever techniques you like, except for visualizations. You will put those in a separate section.\n",
    "\n",
    "When working on your code, make sure to leave comments so that your mentors can understand your thought process."
   ]
  },
  {
   "cell_type": "code",
   "execution_count": 7,
   "metadata": {
    "azdata_cell_guid": "0ca2d318-f6e8-43ef-a33e-5304d24d928d",
    "tags": []
   },
   "outputs": [
    {
     "name": "stdout",
     "output_type": "stream",
     "text": [
      "<class 'pandas.core.frame.DataFrame'>\n",
      "RangeIndex: 5000 entries, 0 to 4999\n",
      "Data columns (total 20 columns):\n",
      " #   Column                             Non-Null Count  Dtype \n",
      "---  ------                             --------------  ----- \n",
      " 0   Employee_ID                        5000 non-null   object\n",
      " 1   Age                                5000 non-null   int64 \n",
      " 2   Gender                             5000 non-null   object\n",
      " 3   Job_Role                           5000 non-null   object\n",
      " 4   Industry                           5000 non-null   object\n",
      " 5   Years_of_Experience                5000 non-null   int64 \n",
      " 6   Work_Location                      5000 non-null   object\n",
      " 7   Hours_Worked_Per_Week              5000 non-null   int64 \n",
      " 8   Number_of_Virtual_Meetings         5000 non-null   int64 \n",
      " 9   Work_Life_Balance_Rating           5000 non-null   int64 \n",
      " 10  Stress_Level                       5000 non-null   object\n",
      " 11  Mental_Health_Condition            3804 non-null   object\n",
      " 12  Access_to_Mental_Health_Resources  5000 non-null   object\n",
      " 13  Productivity_Change                5000 non-null   object\n",
      " 14  Social_Isolation_Rating            5000 non-null   int64 \n",
      " 15  Satisfaction_with_Remote_Work      5000 non-null   object\n",
      " 16  Company_Support_for_Remote_Work    5000 non-null   int64 \n",
      " 17  Physical_Activity                  3371 non-null   object\n",
      " 18  Sleep_Quality                      5000 non-null   object\n",
      " 19  Region                             5000 non-null   object\n",
      "dtypes: int64(7), object(13)\n",
      "memory usage: 781.4+ KB\n"
     ]
    }
   ],
   "source": [
    "df.info()\n",
    "# printing a list of the rows and there data types, while this data set does not contain any nulls it does contain NANs."
   ]
  },
  {
   "cell_type": "code",
   "execution_count": 4,
   "metadata": {},
   "outputs": [
    {
     "data": {
      "text/plain": [
       "(5000, 20)"
      ]
     },
     "execution_count": 4,
     "metadata": {},
     "output_type": "execute_result"
    }
   ],
   "source": [
    "df.shape\n",
    "# checking the overall rows in the dataset as well as the overall columns."
   ]
  },
  {
   "cell_type": "code",
   "execution_count": 6,
   "metadata": {},
   "outputs": [
    {
     "data": {
      "text/plain": [
       "Employee_ID                             0\n",
       "Age                                     0\n",
       "Gender                                  0\n",
       "Job_Role                                0\n",
       "Industry                                0\n",
       "Years_of_Experience                     0\n",
       "Work_Location                           0\n",
       "Hours_Worked_Per_Week                   0\n",
       "Number_of_Virtual_Meetings              0\n",
       "Work_Life_Balance_Rating                0\n",
       "Stress_Level                            0\n",
       "Mental_Health_Condition              1196\n",
       "Access_to_Mental_Health_Resources       0\n",
       "Productivity_Change                     0\n",
       "Social_Isolation_Rating                 0\n",
       "Satisfaction_with_Remote_Work           0\n",
       "Company_Support_for_Remote_Work         0\n",
       "Physical_Activity                    1629\n",
       "Sleep_Quality                           0\n",
       "Region                                  0\n",
       "dtype: int64"
      ]
     },
     "execution_count": 6,
     "metadata": {},
     "output_type": "execute_result"
    }
   ],
   "source": [
    "df.isna().sum()\n",
    "# getting a sum of all of the columns that have NANs in them."
   ]
  },
  {
   "cell_type": "code",
   "execution_count": 37,
   "metadata": {},
   "outputs": [
    {
     "data": {
      "text/plain": [
       "count    5000.000000\n",
       "mean       40.995000\n",
       "std        11.296021\n",
       "min        22.000000\n",
       "25%        31.000000\n",
       "50%        41.000000\n",
       "75%        51.000000\n",
       "max        60.000000\n",
       "Name: Age, dtype: float64"
      ]
     },
     "execution_count": 37,
     "metadata": {},
     "output_type": "execute_result"
    }
   ],
   "source": [
    "df['Age'].describe()\n",
    "# checking the distribution of the ages of the respondents "
   ]
  },
  {
   "cell_type": "code",
   "execution_count": 16,
   "metadata": {},
   "outputs": [
    {
     "data": {
      "text/plain": [
       "Work_Location\n",
       "Hybrid    1649\n",
       "Onsite    1637\n",
       "Remote    1714\n",
       "Name: Employee_ID, dtype: int64"
      ]
     },
     "execution_count": 16,
     "metadata": {},
     "output_type": "execute_result"
    }
   ],
   "source": [
    "df.groupby('Work_Location')['Employee_ID'].count()\n",
    "#Checking the distribution of the sample size for whether people work at home, hybrid or remote."
   ]
  },
  {
   "cell_type": "code",
   "execution_count": 17,
   "metadata": {},
   "outputs": [
    {
     "data": {
      "text/plain": [
       "Sleep_Quality\n",
       "Average    1628\n",
       "Good       1687\n",
       "Poor       1685\n",
       "Name: Employee_ID, dtype: int64"
      ]
     },
     "execution_count": 17,
     "metadata": {},
     "output_type": "execute_result"
    }
   ],
   "source": [
    "df.groupby('Sleep_Quality')['Employee_ID'].count()\n",
    "# Checking the distribution for sleep quality among the data set"
   ]
  },
  {
   "cell_type": "code",
   "execution_count": 18,
   "metadata": {},
   "outputs": [
    {
     "data": {
      "text/plain": [
       "Physical_Activity\n",
       "Daily     1616\n",
       "Weekly    1755\n",
       "Name: Employee_ID, dtype: int64"
      ]
     },
     "execution_count": 18,
     "metadata": {},
     "output_type": "execute_result"
    }
   ],
   "source": [
    "df.groupby('Physical_Activity')['Employee_ID'].count()\n",
    "# Checking the distribution for Physical activity, one thing to note is how the NANs are impacting this answer"
   ]
  },
  {
   "cell_type": "code",
   "execution_count": 21,
   "metadata": {},
   "outputs": [
    {
     "data": {
      "text/plain": [
       "array(['Weekly', nan, 'Daily'], dtype=object)"
      ]
     },
     "execution_count": 21,
     "metadata": {},
     "output_type": "execute_result"
    }
   ],
   "source": [
    "df['Physical_Activity'].unique()\n",
    "# checking the unique IDs that are in the physical activity column, making sure that the other value is just NAN."
   ]
  },
  {
   "cell_type": "code",
   "execution_count": 23,
   "metadata": {},
   "outputs": [
    {
     "data": {
      "text/plain": [
       "array(['Depression', 'Anxiety', nan, 'Burnout'], dtype=object)"
      ]
     },
     "execution_count": 23,
     "metadata": {},
     "output_type": "execute_result"
    }
   ],
   "source": [
    "df['Mental_Health_Condition'].unique()\n",
    "# Doing the same thing for the mental health condition column. "
   ]
  },
  {
   "cell_type": "code",
   "execution_count": 24,
   "metadata": {},
   "outputs": [
    {
     "data": {
      "text/plain": [
       "Satisfaction_with_Remote_Work\n",
       "Neutral        1648\n",
       "Satisfied      1675\n",
       "Unsatisfied    1677\n",
       "Name: Employee_ID, dtype: int64"
      ]
     },
     "execution_count": 24,
     "metadata": {},
     "output_type": "execute_result"
    }
   ],
   "source": [
    "df.groupby('Satisfaction_with_Remote_Work')['Employee_ID'].count()\n",
    "# trying to get an idea of the spread of the data set within remote work satisfaction, so far the data has been very evenly distributed among the answers."
   ]
  },
  {
   "cell_type": "code",
   "execution_count": 33,
   "metadata": {},
   "outputs": [
    {
     "data": {
      "text/html": [
       "<div>\n",
       "<style scoped>\n",
       "    .dataframe tbody tr th:only-of-type {\n",
       "        vertical-align: middle;\n",
       "    }\n",
       "\n",
       "    .dataframe tbody tr th {\n",
       "        vertical-align: top;\n",
       "    }\n",
       "\n",
       "    .dataframe thead th {\n",
       "        text-align: right;\n",
       "    }\n",
       "</style>\n",
       "<table border=\"1\" class=\"dataframe\">\n",
       "  <thead>\n",
       "    <tr style=\"text-align: right;\">\n",
       "      <th></th>\n",
       "      <th>Hours_Worked_Per_Week</th>\n",
       "      <th>Number_of_Virtual_Meetings</th>\n",
       "    </tr>\n",
       "    <tr>\n",
       "      <th>Social_Isolation_Rating</th>\n",
       "      <th></th>\n",
       "      <th></th>\n",
       "    </tr>\n",
       "  </thead>\n",
       "  <tbody>\n",
       "    <tr>\n",
       "      <th>1</th>\n",
       "      <td>39.532004</td>\n",
       "      <td>7.588667</td>\n",
       "    </tr>\n",
       "    <tr>\n",
       "      <th>2</th>\n",
       "      <td>39.541276</td>\n",
       "      <td>7.465291</td>\n",
       "    </tr>\n",
       "    <tr>\n",
       "      <th>3</th>\n",
       "      <td>40.024194</td>\n",
       "      <td>7.579637</td>\n",
       "    </tr>\n",
       "    <tr>\n",
       "      <th>4</th>\n",
       "      <td>39.759884</td>\n",
       "      <td>7.705882</td>\n",
       "    </tr>\n",
       "    <tr>\n",
       "      <th>5</th>\n",
       "      <td>39.194328</td>\n",
       "      <td>7.452731</td>\n",
       "    </tr>\n",
       "  </tbody>\n",
       "</table>\n",
       "</div>"
      ],
      "text/plain": [
       "                         Hours_Worked_Per_Week  Number_of_Virtual_Meetings\n",
       "Social_Isolation_Rating                                                   \n",
       "1                                    39.532004                    7.588667\n",
       "2                                    39.541276                    7.465291\n",
       "3                                    40.024194                    7.579637\n",
       "4                                    39.759884                    7.705882\n",
       "5                                    39.194328                    7.452731"
      ]
     },
     "execution_count": 33,
     "metadata": {},
     "output_type": "execute_result"
    }
   ],
   "source": [
    "df.groupby('Social_Isolation_Rating')[['Hours_Worked_Per_Week', 'Number_of_Virtual_Meetings']].mean()\n",
    "# using groupby to check for any possible correlation between social isolation and workload or amount of virtual meetings, on the surface I do not see any correlation between these."
   ]
  },
  {
   "cell_type": "code",
   "execution_count": 28,
   "metadata": {},
   "outputs": [
    {
     "data": {
      "text/plain": [
       "count    5000.000000\n",
       "mean       17.810200\n",
       "std        10.020412\n",
       "min         1.000000\n",
       "25%         9.000000\n",
       "50%        18.000000\n",
       "75%        26.000000\n",
       "max        35.000000\n",
       "Name: Years_of_Experience, dtype: float64"
      ]
     },
     "execution_count": 28,
     "metadata": {},
     "output_type": "execute_result"
    }
   ],
   "source": [
    "df['Years_of_Experience'].describe()\n",
    "# looking at the distribution of experiance among the responses."
   ]
  },
  {
   "cell_type": "code",
   "execution_count": 30,
   "metadata": {},
   "outputs": [
    {
     "data": {
      "text/plain": [
       "array(['HR', 'Data Scientist', 'Software Engineer', 'Sales', 'Marketing',\n",
       "       'Designer', 'Project Manager'], dtype=object)"
      ]
     },
     "execution_count": 30,
     "metadata": {},
     "output_type": "execute_result"
    }
   ],
   "source": [
    "df['Job_Role'].unique()\n",
    "# checking the various roles that this data set contains"
   ]
  },
  {
   "cell_type": "code",
   "execution_count": 42,
   "metadata": {},
   "outputs": [
    {
     "data": {
      "text/html": [
       "<div>\n",
       "<style scoped>\n",
       "    .dataframe tbody tr th:only-of-type {\n",
       "        vertical-align: middle;\n",
       "    }\n",
       "\n",
       "    .dataframe tbody tr th {\n",
       "        vertical-align: top;\n",
       "    }\n",
       "\n",
       "    .dataframe thead th {\n",
       "        text-align: right;\n",
       "    }\n",
       "</style>\n",
       "<table border=\"1\" class=\"dataframe\">\n",
       "  <thead>\n",
       "    <tr style=\"text-align: right;\">\n",
       "      <th></th>\n",
       "      <th>Social_Isolation_Rating</th>\n",
       "      <th>Work_Life_Balance_Rating</th>\n",
       "      <th>Age</th>\n",
       "      <th>Hours_Worked_Per_Week</th>\n",
       "      <th>Number_of_Virtual_Meetings</th>\n",
       "      <th>Years_of_Experience</th>\n",
       "      <th>Company_Support_for_Remote_Work</th>\n",
       "    </tr>\n",
       "    <tr>\n",
       "      <th>Work_Location</th>\n",
       "      <th></th>\n",
       "      <th></th>\n",
       "      <th></th>\n",
       "      <th></th>\n",
       "      <th></th>\n",
       "      <th></th>\n",
       "      <th></th>\n",
       "    </tr>\n",
       "  </thead>\n",
       "  <tbody>\n",
       "    <tr>\n",
       "      <th>Hybrid</th>\n",
       "      <td>3.01</td>\n",
       "      <td>3.02</td>\n",
       "      <td>41.05</td>\n",
       "      <td>39.59</td>\n",
       "      <td>7.28</td>\n",
       "      <td>18.01</td>\n",
       "      <td>2.97</td>\n",
       "    </tr>\n",
       "    <tr>\n",
       "      <th>Onsite</th>\n",
       "      <td>3.01</td>\n",
       "      <td>2.95</td>\n",
       "      <td>41.10</td>\n",
       "      <td>39.82</td>\n",
       "      <td>7.76</td>\n",
       "      <td>17.72</td>\n",
       "      <td>3.01</td>\n",
       "    </tr>\n",
       "    <tr>\n",
       "      <th>Remote</th>\n",
       "      <td>2.96</td>\n",
       "      <td>2.98</td>\n",
       "      <td>40.85</td>\n",
       "      <td>39.45</td>\n",
       "      <td>7.64</td>\n",
       "      <td>17.70</td>\n",
       "      <td>3.04</td>\n",
       "    </tr>\n",
       "  </tbody>\n",
       "</table>\n",
       "</div>"
      ],
      "text/plain": [
       "               Social_Isolation_Rating  Work_Life_Balance_Rating    Age  \\\n",
       "Work_Location                                                             \n",
       "Hybrid                            3.01                      3.02  41.05   \n",
       "Onsite                            3.01                      2.95  41.10   \n",
       "Remote                            2.96                      2.98  40.85   \n",
       "\n",
       "               Hours_Worked_Per_Week  Number_of_Virtual_Meetings  \\\n",
       "Work_Location                                                      \n",
       "Hybrid                         39.59                        7.28   \n",
       "Onsite                         39.82                        7.76   \n",
       "Remote                         39.45                        7.64   \n",
       "\n",
       "               Years_of_Experience  Company_Support_for_Remote_Work  \n",
       "Work_Location                                                        \n",
       "Hybrid                       18.01                             2.97  \n",
       "Onsite                       17.72                             3.01  \n",
       "Remote                       17.70                             3.04  "
      ]
     },
     "execution_count": 42,
     "metadata": {},
     "output_type": "execute_result"
    }
   ],
   "source": [
    "df.groupby('Work_Location')[['Social_Isolation_Rating','Work_Life_Balance_Rating','Age','Hours_Worked_Per_Week','Number_of_Virtual_Meetings', 'Years_of_Experience', 'Company_Support_for_Remote_Work']].mean().round(2)\n",
    "# in alot of the previous lines of code i've been checking for possible trends not relating to job position, seeing if certian life style choices have impacted the data set. \n",
    "# in this line and the next few I am trying to see how the change in job location directly impacts the data."
   ]
  },
  {
   "cell_type": "code",
   "execution_count": 48,
   "metadata": {},
   "outputs": [
    {
     "data": {
      "text/html": [
       "<div>\n",
       "<style scoped>\n",
       "    .dataframe tbody tr th:only-of-type {\n",
       "        vertical-align: middle;\n",
       "    }\n",
       "\n",
       "    .dataframe tbody tr th {\n",
       "        vertical-align: top;\n",
       "    }\n",
       "\n",
       "    .dataframe thead th {\n",
       "        text-align: right;\n",
       "    }\n",
       "</style>\n",
       "<table border=\"1\" class=\"dataframe\">\n",
       "  <thead>\n",
       "    <tr style=\"text-align: right;\">\n",
       "      <th></th>\n",
       "      <th>Work_Location</th>\n",
       "      <th>Stress_Level</th>\n",
       "      <th>Count</th>\n",
       "    </tr>\n",
       "  </thead>\n",
       "  <tbody>\n",
       "    <tr>\n",
       "      <th>0</th>\n",
       "      <td>Hybrid</td>\n",
       "      <td>High</td>\n",
       "      <td>561</td>\n",
       "    </tr>\n",
       "    <tr>\n",
       "      <th>1</th>\n",
       "      <td>Hybrid</td>\n",
       "      <td>Low</td>\n",
       "      <td>543</td>\n",
       "    </tr>\n",
       "    <tr>\n",
       "      <th>2</th>\n",
       "      <td>Hybrid</td>\n",
       "      <td>Medium</td>\n",
       "      <td>545</td>\n",
       "    </tr>\n",
       "    <tr>\n",
       "      <th>3</th>\n",
       "      <td>Onsite</td>\n",
       "      <td>High</td>\n",
       "      <td>535</td>\n",
       "    </tr>\n",
       "    <tr>\n",
       "      <th>4</th>\n",
       "      <td>Onsite</td>\n",
       "      <td>Low</td>\n",
       "      <td>555</td>\n",
       "    </tr>\n",
       "    <tr>\n",
       "      <th>5</th>\n",
       "      <td>Onsite</td>\n",
       "      <td>Medium</td>\n",
       "      <td>547</td>\n",
       "    </tr>\n",
       "    <tr>\n",
       "      <th>6</th>\n",
       "      <td>Remote</td>\n",
       "      <td>High</td>\n",
       "      <td>590</td>\n",
       "    </tr>\n",
       "    <tr>\n",
       "      <th>7</th>\n",
       "      <td>Remote</td>\n",
       "      <td>Low</td>\n",
       "      <td>547</td>\n",
       "    </tr>\n",
       "    <tr>\n",
       "      <th>8</th>\n",
       "      <td>Remote</td>\n",
       "      <td>Medium</td>\n",
       "      <td>577</td>\n",
       "    </tr>\n",
       "  </tbody>\n",
       "</table>\n",
       "</div>"
      ],
      "text/plain": [
       "  Work_Location Stress_Level  Count\n",
       "0        Hybrid         High    561\n",
       "1        Hybrid          Low    543\n",
       "2        Hybrid       Medium    545\n",
       "3        Onsite         High    535\n",
       "4        Onsite          Low    555\n",
       "5        Onsite       Medium    547\n",
       "6        Remote         High    590\n",
       "7        Remote          Low    547\n",
       "8        Remote       Medium    577"
      ]
     },
     "execution_count": 48,
     "metadata": {},
     "output_type": "execute_result"
    }
   ],
   "source": [
    "df.groupby(['Work_Location', 'Stress_Level']).size().reset_index(name='Count')\n",
    "# Checking the spread of stress levels based on work location. \n"
   ]
  },
  {
   "cell_type": "code",
   "execution_count": 51,
   "metadata": {},
   "outputs": [
    {
     "data": {
      "text/html": [
       "<div>\n",
       "<style scoped>\n",
       "    .dataframe tbody tr th:only-of-type {\n",
       "        vertical-align: middle;\n",
       "    }\n",
       "\n",
       "    .dataframe tbody tr th {\n",
       "        vertical-align: top;\n",
       "    }\n",
       "\n",
       "    .dataframe thead th {\n",
       "        text-align: right;\n",
       "    }\n",
       "</style>\n",
       "<table border=\"1\" class=\"dataframe\">\n",
       "  <thead>\n",
       "    <tr style=\"text-align: right;\">\n",
       "      <th></th>\n",
       "      <th>Employee_ID</th>\n",
       "      <th>Age</th>\n",
       "      <th>Gender</th>\n",
       "      <th>Job_Role</th>\n",
       "      <th>Industry</th>\n",
       "      <th>Years_of_Experience</th>\n",
       "      <th>Hours_Worked_Per_Week</th>\n",
       "      <th>Number_of_Virtual_Meetings</th>\n",
       "      <th>Work_Life_Balance_Rating</th>\n",
       "      <th>Stress_Level</th>\n",
       "      <th>Mental_Health_Condition</th>\n",
       "      <th>Access_to_Mental_Health_Resources</th>\n",
       "      <th>Productivity_Change</th>\n",
       "      <th>Social_Isolation_Rating</th>\n",
       "      <th>Satisfaction_with_Remote_Work</th>\n",
       "      <th>Company_Support_for_Remote_Work</th>\n",
       "      <th>Physical_Activity</th>\n",
       "      <th>Sleep_Quality</th>\n",
       "      <th>Region</th>\n",
       "    </tr>\n",
       "    <tr>\n",
       "      <th>Work_Location</th>\n",
       "      <th></th>\n",
       "      <th></th>\n",
       "      <th></th>\n",
       "      <th></th>\n",
       "      <th></th>\n",
       "      <th></th>\n",
       "      <th></th>\n",
       "      <th></th>\n",
       "      <th></th>\n",
       "      <th></th>\n",
       "      <th></th>\n",
       "      <th></th>\n",
       "      <th></th>\n",
       "      <th></th>\n",
       "      <th></th>\n",
       "      <th></th>\n",
       "      <th></th>\n",
       "      <th></th>\n",
       "      <th></th>\n",
       "    </tr>\n",
       "  </thead>\n",
       "  <tbody>\n",
       "    <tr>\n",
       "      <th>Hybrid</th>\n",
       "      <td>1649</td>\n",
       "      <td>1649</td>\n",
       "      <td>1649</td>\n",
       "      <td>1649</td>\n",
       "      <td>1649</td>\n",
       "      <td>1649</td>\n",
       "      <td>1649</td>\n",
       "      <td>1649</td>\n",
       "      <td>1649</td>\n",
       "      <td>1649</td>\n",
       "      <td>1249</td>\n",
       "      <td>1649</td>\n",
       "      <td>1649</td>\n",
       "      <td>1649</td>\n",
       "      <td>1649</td>\n",
       "      <td>1649</td>\n",
       "      <td>1113</td>\n",
       "      <td>1649</td>\n",
       "      <td>1649</td>\n",
       "    </tr>\n",
       "    <tr>\n",
       "      <th>Onsite</th>\n",
       "      <td>1637</td>\n",
       "      <td>1637</td>\n",
       "      <td>1637</td>\n",
       "      <td>1637</td>\n",
       "      <td>1637</td>\n",
       "      <td>1637</td>\n",
       "      <td>1637</td>\n",
       "      <td>1637</td>\n",
       "      <td>1637</td>\n",
       "      <td>1637</td>\n",
       "      <td>1261</td>\n",
       "      <td>1637</td>\n",
       "      <td>1637</td>\n",
       "      <td>1637</td>\n",
       "      <td>1637</td>\n",
       "      <td>1637</td>\n",
       "      <td>1087</td>\n",
       "      <td>1637</td>\n",
       "      <td>1637</td>\n",
       "    </tr>\n",
       "    <tr>\n",
       "      <th>Remote</th>\n",
       "      <td>1714</td>\n",
       "      <td>1714</td>\n",
       "      <td>1714</td>\n",
       "      <td>1714</td>\n",
       "      <td>1714</td>\n",
       "      <td>1714</td>\n",
       "      <td>1714</td>\n",
       "      <td>1714</td>\n",
       "      <td>1714</td>\n",
       "      <td>1714</td>\n",
       "      <td>1294</td>\n",
       "      <td>1714</td>\n",
       "      <td>1714</td>\n",
       "      <td>1714</td>\n",
       "      <td>1714</td>\n",
       "      <td>1714</td>\n",
       "      <td>1171</td>\n",
       "      <td>1714</td>\n",
       "      <td>1714</td>\n",
       "    </tr>\n",
       "  </tbody>\n",
       "</table>\n",
       "</div>"
      ],
      "text/plain": [
       "               Employee_ID   Age  Gender  Job_Role  Industry  \\\n",
       "Work_Location                                                  \n",
       "Hybrid                1649  1649    1649      1649      1649   \n",
       "Onsite                1637  1637    1637      1637      1637   \n",
       "Remote                1714  1714    1714      1714      1714   \n",
       "\n",
       "               Years_of_Experience  Hours_Worked_Per_Week  \\\n",
       "Work_Location                                               \n",
       "Hybrid                        1649                   1649   \n",
       "Onsite                        1637                   1637   \n",
       "Remote                        1714                   1714   \n",
       "\n",
       "               Number_of_Virtual_Meetings  Work_Life_Balance_Rating  \\\n",
       "Work_Location                                                         \n",
       "Hybrid                               1649                      1649   \n",
       "Onsite                               1637                      1637   \n",
       "Remote                               1714                      1714   \n",
       "\n",
       "               Stress_Level  Mental_Health_Condition  \\\n",
       "Work_Location                                          \n",
       "Hybrid                 1649                     1249   \n",
       "Onsite                 1637                     1261   \n",
       "Remote                 1714                     1294   \n",
       "\n",
       "               Access_to_Mental_Health_Resources  Productivity_Change  \\\n",
       "Work_Location                                                           \n",
       "Hybrid                                      1649                 1649   \n",
       "Onsite                                      1637                 1637   \n",
       "Remote                                      1714                 1714   \n",
       "\n",
       "               Social_Isolation_Rating  Satisfaction_with_Remote_Work  \\\n",
       "Work_Location                                                           \n",
       "Hybrid                            1649                           1649   \n",
       "Onsite                            1637                           1637   \n",
       "Remote                            1714                           1714   \n",
       "\n",
       "               Company_Support_for_Remote_Work  Physical_Activity  \\\n",
       "Work_Location                                                       \n",
       "Hybrid                                    1649               1113   \n",
       "Onsite                                    1637               1087   \n",
       "Remote                                    1714               1171   \n",
       "\n",
       "               Sleep_Quality  Region  \n",
       "Work_Location                         \n",
       "Hybrid                  1649    1649  \n",
       "Onsite                  1637    1637  \n",
       "Remote                  1714    1714  "
      ]
     },
     "execution_count": 51,
     "metadata": {},
     "output_type": "execute_result"
    }
   ],
   "source": []
  },
  {
   "cell_type": "code",
   "execution_count": 52,
   "metadata": {},
   "outputs": [
    {
     "data": {
      "text/html": [
       "<div>\n",
       "<style scoped>\n",
       "    .dataframe tbody tr th:only-of-type {\n",
       "        vertical-align: middle;\n",
       "    }\n",
       "\n",
       "    .dataframe tbody tr th {\n",
       "        vertical-align: top;\n",
       "    }\n",
       "\n",
       "    .dataframe thead th {\n",
       "        text-align: right;\n",
       "    }\n",
       "</style>\n",
       "<table border=\"1\" class=\"dataframe\">\n",
       "  <thead>\n",
       "    <tr style=\"text-align: right;\">\n",
       "      <th></th>\n",
       "      <th>Work_Location</th>\n",
       "      <th>Productivity_Change</th>\n",
       "      <th>Count</th>\n",
       "    </tr>\n",
       "  </thead>\n",
       "  <tbody>\n",
       "    <tr>\n",
       "      <th>0</th>\n",
       "      <td>Hybrid</td>\n",
       "      <td>Decrease</td>\n",
       "      <td>591</td>\n",
       "    </tr>\n",
       "    <tr>\n",
       "      <th>1</th>\n",
       "      <td>Hybrid</td>\n",
       "      <td>Increase</td>\n",
       "      <td>514</td>\n",
       "    </tr>\n",
       "    <tr>\n",
       "      <th>2</th>\n",
       "      <td>Hybrid</td>\n",
       "      <td>No Change</td>\n",
       "      <td>544</td>\n",
       "    </tr>\n",
       "    <tr>\n",
       "      <th>3</th>\n",
       "      <td>Onsite</td>\n",
       "      <td>Decrease</td>\n",
       "      <td>558</td>\n",
       "    </tr>\n",
       "    <tr>\n",
       "      <th>4</th>\n",
       "      <td>Onsite</td>\n",
       "      <td>Increase</td>\n",
       "      <td>514</td>\n",
       "    </tr>\n",
       "    <tr>\n",
       "      <th>5</th>\n",
       "      <td>Onsite</td>\n",
       "      <td>No Change</td>\n",
       "      <td>565</td>\n",
       "    </tr>\n",
       "    <tr>\n",
       "      <th>6</th>\n",
       "      <td>Remote</td>\n",
       "      <td>Decrease</td>\n",
       "      <td>588</td>\n",
       "    </tr>\n",
       "    <tr>\n",
       "      <th>7</th>\n",
       "      <td>Remote</td>\n",
       "      <td>Increase</td>\n",
       "      <td>558</td>\n",
       "    </tr>\n",
       "    <tr>\n",
       "      <th>8</th>\n",
       "      <td>Remote</td>\n",
       "      <td>No Change</td>\n",
       "      <td>568</td>\n",
       "    </tr>\n",
       "  </tbody>\n",
       "</table>\n",
       "</div>"
      ],
      "text/plain": [
       "  Work_Location Productivity_Change  Count\n",
       "0        Hybrid            Decrease    591\n",
       "1        Hybrid            Increase    514\n",
       "2        Hybrid           No Change    544\n",
       "3        Onsite            Decrease    558\n",
       "4        Onsite            Increase    514\n",
       "5        Onsite           No Change    565\n",
       "6        Remote            Decrease    588\n",
       "7        Remote            Increase    558\n",
       "8        Remote           No Change    568"
      ]
     },
     "execution_count": 52,
     "metadata": {},
     "output_type": "execute_result"
    }
   ],
   "source": [
    "df.groupby(['Work_Location', 'Productivity_Change']).size().reset_index(name='Count')\n",
    "# Checking work location vs productivity change"
   ]
  },
  {
   "attachments": {},
   "cell_type": "markdown",
   "metadata": {
    "azdata_cell_guid": "d45060f3-97bc-484a-9ef4-66145bbe9427"
   },
   "source": [
    "## Visualize\n",
    "\n",
    "Create any visualizations for your EDA here. Make note in the form of code comments of what your thought process is for your visualizations."
   ]
  },
  {
   "cell_type": "code",
   "execution_count": 53,
   "metadata": {
    "azdata_cell_guid": "f4565b03-759a-47a8-b58f-01b32a0b4b67"
   },
   "outputs": [
    {
     "name": "stdout",
     "output_type": "stream",
     "text": [
      "<class 'pandas.core.frame.DataFrame'>\n",
      "RangeIndex: 5000 entries, 0 to 4999\n",
      "Data columns (total 20 columns):\n",
      " #   Column                             Non-Null Count  Dtype \n",
      "---  ------                             --------------  ----- \n",
      " 0   Employee_ID                        5000 non-null   object\n",
      " 1   Age                                5000 non-null   int64 \n",
      " 2   Gender                             5000 non-null   object\n",
      " 3   Job_Role                           5000 non-null   object\n",
      " 4   Industry                           5000 non-null   object\n",
      " 5   Years_of_Experience                5000 non-null   int64 \n",
      " 6   Work_Location                      5000 non-null   object\n",
      " 7   Hours_Worked_Per_Week              5000 non-null   int64 \n",
      " 8   Number_of_Virtual_Meetings         5000 non-null   int64 \n",
      " 9   Work_Life_Balance_Rating           5000 non-null   int64 \n",
      " 10  Stress_Level                       5000 non-null   object\n",
      " 11  Mental_Health_Condition            3804 non-null   object\n",
      " 12  Access_to_Mental_Health_Resources  5000 non-null   object\n",
      " 13  Productivity_Change                5000 non-null   object\n",
      " 14  Social_Isolation_Rating            5000 non-null   int64 \n",
      " 15  Satisfaction_with_Remote_Work      5000 non-null   object\n",
      " 16  Company_Support_for_Remote_Work    5000 non-null   int64 \n",
      " 17  Physical_Activity                  3371 non-null   object\n",
      " 18  Sleep_Quality                      5000 non-null   object\n",
      " 19  Region                             5000 non-null   object\n",
      "dtypes: int64(7), object(13)\n",
      "memory usage: 781.4+ KB\n"
     ]
    }
   ],
   "source": [
    "df.info()"
   ]
  },
  {
   "cell_type": "code",
   "execution_count": 57,
   "metadata": {},
   "outputs": [
    {
     "name": "stderr",
     "output_type": "stream",
     "text": [
      "C:\\Users\\Devin\\AppData\\Local\\Temp\\ipykernel_7740\\4070823452.py:7: FutureWarning: \n",
      "\n",
      "Passing `palette` without assigning `hue` is deprecated and will be removed in v0.14.0. Assign the `y` variable to `hue` and set `legend=False` for the same effect.\n",
      "\n",
      "  sns.barplot(data=avg_isolation, x='Social_Isolation_Rating', y='Work_Location', palette=\"Blues_d\", width=.5)\n"
     ]
    },
    {
     "data": {
      "image/png": "[encoded data removed]",
      "text/plain": [
       "<Figure size 1000x600 with 1 Axes>"
      ]
     },
     "metadata": {},
     "output_type": "display_data"
    }
   ],
   "source": [
    "\n",
    "avg_isolation = df.groupby('Work_Location')['Social_Isolation_Rating'].mean().reset_index()\n",
    "sns.set_theme(style=\"darkgrid\")\n",
    "\n",
    "plt.figure(figsize=(10,6))\n",
    "\n",
    "sns.barplot(data=avg_isolation, x='Social_Isolation_Rating', y='Work_Location', palette=\"Blues_d\", width=.5)\n",
    "plt.title('Average Social Isolation Rating by Work Location')\n",
    "plt.xlabel('Average Social Isolation Rating')\n",
    "plt.ylabel('Work Location')\n",
    "plt.show()"
   ]
  },
  {
   "cell_type": "code",
   "execution_count": 58,
   "metadata": {},
   "outputs": [
    {
     "data": {
      "text/plain": [
       "<function matplotlib.pyplot.show(close=None, block=None)>"
      ]
     },
     "execution_count": 58,
     "metadata": {},
     "output_type": "execute_result"
    },
    {
     "data": {
      "image/png": "[encoded data removed]",
      "text/plain": [
       "<Figure size 1000x600 with 1 Axes>"
      ]
     },
     "metadata": {},
     "output_type": "display_data"
    }
   ],
   "source": [
    "\n",
    "stress_count = df.groupby(['Work_Location', 'Stress_Level']).size().unstack(fill_value=0)\n",
    "stress_count.plot(kind='bar', stacked=True, figsize=(10, 6))\n",
    "plt.title('Count of Workers by Work Location and Stress Level')\n",
    "plt.xlabel('Work Location')\n",
    "plt.ylabel('Workers Count')\n",
    "plt.xticks(rotation=45)\n",
    "plt.show"
   ]
  },
  {
   "cell_type": "code",
   "execution_count": 62,
   "metadata": {
    "azdata_cell_guid": "cd64bab1-db4c-4295-820d-c6464b653a3e"
   },
   "outputs": [
    {
     "data": {
      "text/plain": [
       "Text(0, 0.5, 'Social Isolation Rating')"
      ]
     },
     "execution_count": 62,
     "metadata": {},
     "output_type": "execute_result"
    },
    {
     "data": {
      "image/png": "[encoded data removed]",
      "text/plain": [
       "<Figure size 1000x600 with 1 Axes>"
      ]
     },
     "metadata": {},
     "output_type": "display_data"
    }
   ],
   "source": [
    "\n",
    "plt.figure(figsize=(10, 6))\n",
    "sns.lineplot(data=df, x=\"Hours_Worked_Per_Week\", y='Social_Isolation_Rating', marker='o')\n",
    "plt.title('Hours Worked Per Week vs Social Isolation Rating')\n",
    "plt.xlabel('Hours Worked Per Week')\n",
    "plt.ylabel('Social Isolation Rating')"
   ]
  },
  {
   "cell_type": "markdown",
   "metadata": {
    "azdata_cell_guid": "d4931c0c-2c09-4ee1-95d4-73dd08c2f0a6"
   },
   "source": [
    "## Summarize Your Results\n",
    "\n",
    "With your EDA complete, answer the following questions.\n",
    "\n",
    "1. Was there anything surprising about your dataset? \n",
    "2. Do you have any concerns about your dataset? \n",
    "3. Is there anything you want to make note of for the next phase of your analysis, which is cleaning data? "
   ]
  },
  {
   "cell_type": "markdown",
   "metadata": {},
   "source": [
    "1. A few things I found suprising was that one the data set was very balanced, I was expecting a slight skew to either to remote or Onsight on certain columns such as \"Work Life Balance\", \"Social Isolation Rating\", and \"Number of Virtual Meetings\"\n",
    "2. I think the data will require alot of filtering to uncover some of the trends within this data set, working at home and onsight produce dramatically different lives and I expect there to be a difference in some of these indicators.\n",
    "3. The biggest decision I have for cleaning is that I will need to decide to do with the physical activities and Mental Health Conditions columns with its NAN values."
   ]
  }
 ],
 "metadata": {
  "kernelspec": {
   "display_name": "Python 3 (ipykernel)",
   "language": "python",
   "name": "python3"
  },
  "language_info": {
   "codemirror_mode": {
    "name": "ipython",
    "version": 3
   },
   "file_extension": ".py",
   "mimetype": "text/x-python",
   "name": "python",
   "nbconvert_exporter": "python",
   "pygments_lexer": "ipython3",
   "version": "3.12.5"
  }
 },
 "nbformat": 4,
 "nbformat_minor": 4
}
