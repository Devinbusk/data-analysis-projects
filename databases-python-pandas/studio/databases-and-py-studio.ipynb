{
    "cells": [
        {
            "attachments": {},
            "cell_type": "markdown",
            "metadata": {
                "azdata_cell_guid": "54326aff-51cd-4766-8046-828a92489c6d"
            },
            "source": [
                "# Studio: Working with Databases in Python\n",
                "\n",
                "For today's studio, we will be using the [TV Shows dataset](https://www.kaggle.com/ruchi798/tv-shows-on-netflix-prime-video-hulu-and-disney) from Kaggle. We have already downloaded the CSV for you.\n",
                "\n",
                "You will use the watchlist you created to answer these questions:\n",
                "\n",
                "1. **Which streaming services contain the shows you want to watch next?**\n",
                "2. **Which streaming service is the best value based on the shows you want to watch?**\n",
                "\n",
                "As you complete the different tasks in the studio, you may choose between using Pandas or SQL. \n",
                "\n",
                "**Remember**: we learned in our prep work that one is oftentimes more efficient at certain tasks than the other, so choose wisely!"
            ]
        },
        {
            "attachments": {},
            "cell_type": "markdown",
            "metadata": {
                "azdata_cell_guid": "00bc62ef-6c46-40a2-bdad-a3250a003ce7"
            },
            "source": [
                "## My Watchlist\n",
                "\n",
                "If you would like, please use this space to make note of your watchlist by editing the text cell. You will need 10 shows overall.\n",
                "\n",
                "1. Game of Thrones\n",
                "2. Avatar Last Airbender\n",
                "3. Peaky Blinders\n",
                "4. Friends\n",
                "5. That 70's Show\n",
                "6. Alone\n",
                "7. Forged in Fire\n",
                "8. Dexter\n",
                "9. River Monsters\n",
                "10. Dark Waters "
            ]
        },
        {
            "cell_type": "markdown",
            "metadata": {
                "azdata_cell_guid": "040bdac5-f7fc-474f-b112-1d807249ad0a"
            },
            "source": [
                "## Database Setup\n",
                "\n",
                "Import the necessary libraries and create a dataframe from the provided CSV. \n",
                "\n",
                "Print the info out for the dataframe. \n",
                "\n",
                "After that, you may drop the column called `Unnamed: 0` and rename any columns with spaces or unusual characters in the names such as `\"Disney+\"`. \n",
                "\n",
                "Print out the info for the dataframe again to ensure your changes were made."
            ]
        },
        {
            "cell_type": "code",
            "execution_count": 14,
            "metadata": {
                "azdata_cell_guid": "965f15d3-27b1-43ed-97e4-8c6fd482476c",
                "tags": []
            },
            "outputs": [],
            "source": [
                "# Code here\n",
                "import sqlite3\n",
                "import pandas as pd \n",
                "df = pd.read_csv(r\"tv_shows.csv\")\n",
                "df = df.drop(columns=['Unnamed: 0'])"
            ]
        },
        {
            "attachments": {},
            "cell_type": "markdown",
            "metadata": {
                "azdata_cell_guid": "93875e01-f1ec-45ab-b8b3-c0fe09c89c41"
            },
            "source": [
                "With your dataframe at the ready, create a new database called `tv.db`. \n",
                "\n",
                "Add a new table to your database called `shows` using the data in the dataframe. "
            ]
        },
        {
            "cell_type": "code",
            "execution_count": 16,
            "metadata": {
                "azdata_cell_guid": "cae4affc-d930-4649-9c39-551475a83b5b",
                "tags": []
            },
            "outputs": [
                {
                    "name": "stdout",
                    "output_type": "stream",
                    "text": [
                        "<sqlite3.Connection object at 0x00000298F91A0040>\n",
                        "<sqlite3.Cursor object at 0x00000298F9181F40>\n"
                    ]
                },
                {
                    "data": {
                        "text/plain": [
                            "<sqlite3.Cursor at 0x298f90f0cc0>"
                        ]
                    },
                    "execution_count": 16,
                    "metadata": {},
                    "output_type": "execute_result"
                }
            ],
            "source": [
                "# Code here\n",
                "\n",
                "con = sqlite3.connect('tv.db')\n",
                "print(con)\n",
                "cur = con.cursor()\n",
                "print(cur)\n",
                "\n",
                "cur.execute(\"DROP TABLE IF EXISTS shows_table\")\n",
                "shows = df.to_sql('df', con, if_exists='replace')\n",
                "\n",
                "con.execute(\n",
                "    \"\"\"\n",
                "    CREATE TABLE shows_table as \n",
                "    SELECT * FROM df\n",
                "    \"\"\"\n",
                ")\n"
            ]
        },
        {
            "attachments": {},
            "cell_type": "markdown",
            "metadata": {
                "azdata_cell_guid": "4916f211-149f-467b-b5e4-22ad946b54f2"
            },
            "source": [
                "With your new table and database set up, print out the top 20 records in the `shows` table."
            ]
        },
        {
            "cell_type": "code",
            "execution_count": 17,
            "metadata": {
                "azdata_cell_guid": "c6aa3980-3eef-4d7d-8f04-961508662147",
                "tags": []
            },
            "outputs": [
                {
                    "data": {
                        "text/html": [
                            "<div>\n",
                            "<style scoped>\n",
                            "    .dataframe tbody tr th:only-of-type {\n",
                            "        vertical-align: middle;\n",
                            "    }\n",
                            "\n",
                            "    .dataframe tbody tr th {\n",
                            "        vertical-align: top;\n",
                            "    }\n",
                            "\n",
                            "    .dataframe thead th {\n",
                            "        text-align: right;\n",
                            "    }\n",
                            "</style>\n",
                            "<table border=\"1\" class=\"dataframe\">\n",
                            "  <thead>\n",
                            "    <tr style=\"text-align: right;\">\n",
                            "      <th></th>\n",
                            "      <th>index</th>\n",
                            "      <th>ID</th>\n",
                            "      <th>Title</th>\n",
                            "      <th>Year</th>\n",
                            "      <th>Age</th>\n",
                            "      <th>IMDb</th>\n",
                            "      <th>Rotten Tomatoes</th>\n",
                            "      <th>Netflix</th>\n",
                            "      <th>Hulu</th>\n",
                            "      <th>Prime Video</th>\n",
                            "      <th>Disney+</th>\n",
                            "      <th>Type</th>\n",
                            "    </tr>\n",
                            "  </thead>\n",
                            "  <tbody>\n",
                            "    <tr>\n",
                            "      <th>0</th>\n",
                            "      <td>0</td>\n",
                            "      <td>1</td>\n",
                            "      <td>Breaking Bad</td>\n",
                            "      <td>2008</td>\n",
                            "      <td>18+</td>\n",
                            "      <td>9.4/10</td>\n",
                            "      <td>100/100</td>\n",
                            "      <td>1</td>\n",
                            "      <td>0</td>\n",
                            "      <td>0</td>\n",
                            "      <td>0</td>\n",
                            "      <td>1</td>\n",
                            "    </tr>\n",
                            "    <tr>\n",
                            "      <th>1</th>\n",
                            "      <td>1</td>\n",
                            "      <td>2</td>\n",
                            "      <td>Stranger Things</td>\n",
                            "      <td>2016</td>\n",
                            "      <td>16+</td>\n",
                            "      <td>8.7/10</td>\n",
                            "      <td>96/100</td>\n",
                            "      <td>1</td>\n",
                            "      <td>0</td>\n",
                            "      <td>0</td>\n",
                            "      <td>0</td>\n",
                            "      <td>1</td>\n",
                            "    </tr>\n",
                            "    <tr>\n",
                            "      <th>2</th>\n",
                            "      <td>2</td>\n",
                            "      <td>3</td>\n",
                            "      <td>Attack on Titan</td>\n",
                            "      <td>2013</td>\n",
                            "      <td>18+</td>\n",
                            "      <td>9.0/10</td>\n",
                            "      <td>95/100</td>\n",
                            "      <td>1</td>\n",
                            "      <td>1</td>\n",
                            "      <td>0</td>\n",
                            "      <td>0</td>\n",
                            "      <td>1</td>\n",
                            "    </tr>\n",
                            "    <tr>\n",
                            "      <th>3</th>\n",
                            "      <td>3</td>\n",
                            "      <td>4</td>\n",
                            "      <td>Better Call Saul</td>\n",
                            "      <td>2015</td>\n",
                            "      <td>18+</td>\n",
                            "      <td>8.8/10</td>\n",
                            "      <td>94/100</td>\n",
                            "      <td>1</td>\n",
                            "      <td>0</td>\n",
                            "      <td>0</td>\n",
                            "      <td>0</td>\n",
                            "      <td>1</td>\n",
                            "    </tr>\n",
                            "    <tr>\n",
                            "      <th>4</th>\n",
                            "      <td>4</td>\n",
                            "      <td>5</td>\n",
                            "      <td>Dark</td>\n",
                            "      <td>2017</td>\n",
                            "      <td>16+</td>\n",
                            "      <td>8.8/10</td>\n",
                            "      <td>93/100</td>\n",
                            "      <td>1</td>\n",
                            "      <td>0</td>\n",
                            "      <td>0</td>\n",
                            "      <td>0</td>\n",
                            "      <td>1</td>\n",
                            "    </tr>\n",
                            "    <tr>\n",
                            "      <th>5</th>\n",
                            "      <td>5</td>\n",
                            "      <td>6</td>\n",
                            "      <td>Avatar: The Last Airbender</td>\n",
                            "      <td>2005</td>\n",
                            "      <td>7+</td>\n",
                            "      <td>9.3/10</td>\n",
                            "      <td>93/100</td>\n",
                            "      <td>1</td>\n",
                            "      <td>0</td>\n",
                            "      <td>1</td>\n",
                            "      <td>0</td>\n",
                            "      <td>1</td>\n",
                            "    </tr>\n",
                            "    <tr>\n",
                            "      <th>6</th>\n",
                            "      <td>6</td>\n",
                            "      <td>7</td>\n",
                            "      <td>Peaky Blinders</td>\n",
                            "      <td>2013</td>\n",
                            "      <td>18+</td>\n",
                            "      <td>8.8/10</td>\n",
                            "      <td>93/100</td>\n",
                            "      <td>1</td>\n",
                            "      <td>0</td>\n",
                            "      <td>0</td>\n",
                            "      <td>0</td>\n",
                            "      <td>1</td>\n",
                            "    </tr>\n",
                            "    <tr>\n",
                            "      <th>7</th>\n",
                            "      <td>7</td>\n",
                            "      <td>8</td>\n",
                            "      <td>The Walking Dead</td>\n",
                            "      <td>2010</td>\n",
                            "      <td>18+</td>\n",
                            "      <td>8.2/10</td>\n",
                            "      <td>93/100</td>\n",
                            "      <td>1</td>\n",
                            "      <td>0</td>\n",
                            "      <td>0</td>\n",
                            "      <td>0</td>\n",
                            "      <td>1</td>\n",
                            "    </tr>\n",
                            "    <tr>\n",
                            "      <th>8</th>\n",
                            "      <td>8</td>\n",
                            "      <td>9</td>\n",
                            "      <td>Black Mirror</td>\n",
                            "      <td>2011</td>\n",
                            "      <td>18+</td>\n",
                            "      <td>8.8/10</td>\n",
                            "      <td>92/100</td>\n",
                            "      <td>1</td>\n",
                            "      <td>0</td>\n",
                            "      <td>0</td>\n",
                            "      <td>0</td>\n",
                            "      <td>1</td>\n",
                            "    </tr>\n",
                            "    <tr>\n",
                            "      <th>9</th>\n",
                            "      <td>9</td>\n",
                            "      <td>10</td>\n",
                            "      <td>The Queen's Gambit</td>\n",
                            "      <td>2020</td>\n",
                            "      <td>18+</td>\n",
                            "      <td>8.6/10</td>\n",
                            "      <td>92/100</td>\n",
                            "      <td>1</td>\n",
                            "      <td>0</td>\n",
                            "      <td>0</td>\n",
                            "      <td>0</td>\n",
                            "      <td>1</td>\n",
                            "    </tr>\n",
                            "    <tr>\n",
                            "      <th>10</th>\n",
                            "      <td>10</td>\n",
                            "      <td>11</td>\n",
                            "      <td>Mindhunter</td>\n",
                            "      <td>2017</td>\n",
                            "      <td>18+</td>\n",
                            "      <td>8.6/10</td>\n",
                            "      <td>90/100</td>\n",
                            "      <td>1</td>\n",
                            "      <td>0</td>\n",
                            "      <td>0</td>\n",
                            "      <td>0</td>\n",
                            "      <td>1</td>\n",
                            "    </tr>\n",
                            "    <tr>\n",
                            "      <th>11</th>\n",
                            "      <td>11</td>\n",
                            "      <td>12</td>\n",
                            "      <td>Community</td>\n",
                            "      <td>2009</td>\n",
                            "      <td>7+</td>\n",
                            "      <td>8.5/10</td>\n",
                            "      <td>90/100</td>\n",
                            "      <td>1</td>\n",
                            "      <td>1</td>\n",
                            "      <td>1</td>\n",
                            "      <td>0</td>\n",
                            "      <td>1</td>\n",
                            "    </tr>\n",
                            "    <tr>\n",
                            "      <th>12</th>\n",
                            "      <td>12</td>\n",
                            "      <td>13</td>\n",
                            "      <td>Narcos</td>\n",
                            "      <td>2015</td>\n",
                            "      <td>18+</td>\n",
                            "      <td>8.8/10</td>\n",
                            "      <td>90/100</td>\n",
                            "      <td>1</td>\n",
                            "      <td>0</td>\n",
                            "      <td>0</td>\n",
                            "      <td>0</td>\n",
                            "      <td>1</td>\n",
                            "    </tr>\n",
                            "    <tr>\n",
                            "      <th>13</th>\n",
                            "      <td>13</td>\n",
                            "      <td>14</td>\n",
                            "      <td>Shameless</td>\n",
                            "      <td>2011</td>\n",
                            "      <td>18+</td>\n",
                            "      <td>8.5/10</td>\n",
                            "      <td>90/100</td>\n",
                            "      <td>1</td>\n",
                            "      <td>1</td>\n",
                            "      <td>1</td>\n",
                            "      <td>0</td>\n",
                            "      <td>1</td>\n",
                            "    </tr>\n",
                            "    <tr>\n",
                            "      <th>14</th>\n",
                            "      <td>14</td>\n",
                            "      <td>15</td>\n",
                            "      <td>Money Heist</td>\n",
                            "      <td>2017</td>\n",
                            "      <td>18+</td>\n",
                            "      <td>8.3/10</td>\n",
                            "      <td>90/100</td>\n",
                            "      <td>1</td>\n",
                            "      <td>0</td>\n",
                            "      <td>0</td>\n",
                            "      <td>0</td>\n",
                            "      <td>1</td>\n",
                            "    </tr>\n",
                            "    <tr>\n",
                            "      <th>15</th>\n",
                            "      <td>15</td>\n",
                            "      <td>16</td>\n",
                            "      <td>Marvel's Daredevil</td>\n",
                            "      <td>2015</td>\n",
                            "      <td>18+</td>\n",
                            "      <td>8.6/10</td>\n",
                            "      <td>90/100</td>\n",
                            "      <td>1</td>\n",
                            "      <td>0</td>\n",
                            "      <td>0</td>\n",
                            "      <td>0</td>\n",
                            "      <td>1</td>\n",
                            "    </tr>\n",
                            "    <tr>\n",
                            "      <th>16</th>\n",
                            "      <td>16</td>\n",
                            "      <td>17</td>\n",
                            "      <td>Lucifer</td>\n",
                            "      <td>2016</td>\n",
                            "      <td>16+</td>\n",
                            "      <td>8.1/10</td>\n",
                            "      <td>90/100</td>\n",
                            "      <td>1</td>\n",
                            "      <td>0</td>\n",
                            "      <td>0</td>\n",
                            "      <td>0</td>\n",
                            "      <td>1</td>\n",
                            "    </tr>\n",
                            "    <tr>\n",
                            "      <th>17</th>\n",
                            "      <td>17</td>\n",
                            "      <td>18</td>\n",
                            "      <td>Supernatural</td>\n",
                            "      <td>2005</td>\n",
                            "      <td>16+</td>\n",
                            "      <td>8.4/10</td>\n",
                            "      <td>89/100</td>\n",
                            "      <td>1</td>\n",
                            "      <td>0</td>\n",
                            "      <td>0</td>\n",
                            "      <td>0</td>\n",
                            "      <td>1</td>\n",
                            "    </tr>\n",
                            "    <tr>\n",
                            "      <th>18</th>\n",
                            "      <td>18</td>\n",
                            "      <td>19</td>\n",
                            "      <td>The Witcher</td>\n",
                            "      <td>2019</td>\n",
                            "      <td>18+</td>\n",
                            "      <td>8.2/10</td>\n",
                            "      <td>89/100</td>\n",
                            "      <td>1</td>\n",
                            "      <td>0</td>\n",
                            "      <td>0</td>\n",
                            "      <td>0</td>\n",
                            "      <td>1</td>\n",
                            "    </tr>\n",
                            "    <tr>\n",
                            "      <th>19</th>\n",
                            "      <td>19</td>\n",
                            "      <td>20</td>\n",
                            "      <td>Ozark</td>\n",
                            "      <td>2017</td>\n",
                            "      <td>18+</td>\n",
                            "      <td>8.4/10</td>\n",
                            "      <td>89/100</td>\n",
                            "      <td>1</td>\n",
                            "      <td>0</td>\n",
                            "      <td>0</td>\n",
                            "      <td>0</td>\n",
                            "      <td>1</td>\n",
                            "    </tr>\n",
                            "  </tbody>\n",
                            "</table>\n",
                            "</div>"
                        ],
                        "text/plain": [
                            "    index  ID                       Title  Year  Age    IMDb Rotten Tomatoes  \\\n",
                            "0       0   1                Breaking Bad  2008  18+  9.4/10         100/100   \n",
                            "1       1   2             Stranger Things  2016  16+  8.7/10          96/100   \n",
                            "2       2   3             Attack on Titan  2013  18+  9.0/10          95/100   \n",
                            "3       3   4            Better Call Saul  2015  18+  8.8/10          94/100   \n",
                            "4       4   5                        Dark  2017  16+  8.8/10          93/100   \n",
                            "5       5   6  Avatar: The Last Airbender  2005   7+  9.3/10          93/100   \n",
                            "6       6   7              Peaky Blinders  2013  18+  8.8/10          93/100   \n",
                            "7       7   8            The Walking Dead  2010  18+  8.2/10          93/100   \n",
                            "8       8   9                Black Mirror  2011  18+  8.8/10          92/100   \n",
                            "9       9  10          The Queen's Gambit  2020  18+  8.6/10          92/100   \n",
                            "10     10  11                  Mindhunter  2017  18+  8.6/10          90/100   \n",
                            "11     11  12                   Community  2009   7+  8.5/10          90/100   \n",
                            "12     12  13                      Narcos  2015  18+  8.8/10          90/100   \n",
                            "13     13  14                   Shameless  2011  18+  8.5/10          90/100   \n",
                            "14     14  15                 Money Heist  2017  18+  8.3/10          90/100   \n",
                            "15     15  16          Marvel's Daredevil  2015  18+  8.6/10          90/100   \n",
                            "16     16  17                     Lucifer  2016  16+  8.1/10          90/100   \n",
                            "17     17  18                Supernatural  2005  16+  8.4/10          89/100   \n",
                            "18     18  19                 The Witcher  2019  18+  8.2/10          89/100   \n",
                            "19     19  20                       Ozark  2017  18+  8.4/10          89/100   \n",
                            "\n",
                            "    Netflix  Hulu  Prime Video  Disney+  Type  \n",
                            "0         1     0            0        0     1  \n",
                            "1         1     0            0        0     1  \n",
                            "2         1     1            0        0     1  \n",
                            "3         1     0            0        0     1  \n",
                            "4         1     0            0        0     1  \n",
                            "5         1     0            1        0     1  \n",
                            "6         1     0            0        0     1  \n",
                            "7         1     0            0        0     1  \n",
                            "8         1     0            0        0     1  \n",
                            "9         1     0            0        0     1  \n",
                            "10        1     0            0        0     1  \n",
                            "11        1     1            1        0     1  \n",
                            "12        1     0            0        0     1  \n",
                            "13        1     1            1        0     1  \n",
                            "14        1     0            0        0     1  \n",
                            "15        1     0            0        0     1  \n",
                            "16        1     0            0        0     1  \n",
                            "17        1     0            0        0     1  \n",
                            "18        1     0            0        0     1  \n",
                            "19        1     0            0        0     1  "
                        ]
                    },
                    "execution_count": 17,
                    "metadata": {},
                    "output_type": "execute_result"
                }
            ],
            "source": [
                "# Code Here\n",
                "shows_df = pd.read_sql_query('SELECT * FROM shows_table;', con)\n",
                "shows_df.head(20)"
            ]
        },
        {
            "attachments": {},
            "cell_type": "markdown",
            "metadata": {
                "azdata_cell_guid": "f158ccd2-c87a-4d2c-a947-0eadd0484a3e"
            },
            "source": [
                "Now, create a new table called `watchlist` that has three fields:\n",
                "1. id -> data type of `INTEGER NOT NULL PRIMARY KEY AUTOINCREMENT`\n",
                "2. title -> data type of `TEXT`\n",
                "3. importance_rank -> data type of `INTEGER`\n",
                "\n",
                "For the `importance_rank` field, rank each of your watchlist shows based on how much you want to see them, `10` being the most important and `1` being the least important.\n",
                "\n",
                "Then, insert each of the items from your watchlist into the new `watchlist` table, using the `executemany` method from our exercises.\n",
                "\n",
                "Finally, select all the records from the `watchlist` table and print them out to the console."
            ]
        },
        {
            "cell_type": "code",
            "execution_count": 19,
            "metadata": {
                "azdata_cell_guid": "f95defad-521b-4112-8435-08daaac80b80"
            },
            "outputs": [],
            "source": [
                "# Code here\n",
                "with con:                           \n",
                "    con.executescript(\"\"\"           \n",
                "        BEGIN;\n",
                "        CREATE TABLE watchlist (\n",
                "            id INTEGER NOT NULL PRIMARY KEY AUTOINCREMENT,\n",
                "            title TEXT,\n",
                "            importance_rank INT\n",
                "            \n",
                "        );\n",
                "        COMMIT;\n",
                "    \"\"\")"
            ]
        },
        {
            "cell_type": "code",
            "execution_count": 39,
            "metadata": {},
            "outputs": [],
            "source": [
                "sql = 'INSERT INTO watchlist (title, importance_rank) values(?, ?)'\n",
                "data = [\n",
                "(\"Game of thrones\", 6),\n",
                "(\"Avatar Last Airbender\", 1),\n",
                "(\"Peaky Blinders\", 10),\n",
                "(\"Friends\", 8),\n",
                "(\"That 70's Show\", 9),\n",
                "(\"Alone\", 3),\n",
                "(\"Forged in Fire\", 4),\n",
                "(\"Dexter\", 7),\n",
                "(\"River Monsters\", 2),\n",
                "(\"Dark Waters\", 5),\n",
                " ]\n",
                "\n",
                "with con:\n",
                "    con.executemany(sql, data)\n",
                "\n",
                "data_df = pd.DataFrame(data, columns=(\"Title\", \"Importance_rank\"))"
            ]
        },
        {
            "attachments": {},
            "cell_type": "markdown",
            "metadata": {
                "azdata_cell_guid": "4716090d-63e3-4283-8245-934c4a28c750"
            },
            "source": [
                "## Working with the Data\n",
                "\n",
                "Using Pandas or SQL, find the answer to these 2 questions:\n",
                "1. How many of the total shows (full csv list) are on each streaming service?\n",
                "2. What percentage of these total shows is available on each streaming service?\n",
                "\n",
                "**Hint**:\n",
                "\n",
                "Use the pandas `query` method to filter the data, and then the Python `len` method to find it's length. [Relevant Link](https://www.geeksforgeeks.org/ways-to-filter-pandas-dataframe-by-column-values/)"
            ]
        },
        {
            "cell_type": "code",
            "execution_count": 24,
            "metadata": {
                "azdata_cell_guid": "8e4f3757-474f-4e20-b861-db973437b541"
            },
            "outputs": [
                {
                    "name": "stdout",
                    "output_type": "stream",
                    "text": [
                        "5368\n"
                    ]
                }
            ],
            "source": [
                "# Code here\n",
                "print(len(df))"
            ]
        },
        {
            "cell_type": "code",
            "execution_count": 29,
            "metadata": {},
            "outputs": [
                {
                    "name": "stdout",
                    "output_type": "stream",
                    "text": [
                        "1621 1971 351 1831\n"
                    ]
                }
            ],
            "source": [
                "hulu = df[df['Hulu'] == 1]\n",
                "netflix = df[df['Netflix'] == 1]\n",
                "disney = df[df['Disney+'] ==1]\n",
                "prime_video = df[df['Prime Video'] ==1]\n",
                "print(len(hulu), len(netflix), len(disney), len(prime_video))"
            ]
        },
        {
            "cell_type": "code",
            "execution_count": 34,
            "metadata": {},
            "outputs": [
                {
                    "name": "stdout",
                    "output_type": "stream",
                    "text": [
                        "0.3 0.37 0.07 0.34\n"
                    ]
                }
            ],
            "source": [
                "hulu_percent = round(len(hulu)/len(df), 2)\n",
                "\n",
                "netflix_percent = round(len(netflix)/len(df), 2)\n",
                "\n",
                "disney_percent = round(len(disney)/len(df), 2)\n",
                "\n",
                "prime_video_percent = round(len(prime_video)/len(df), 2)\n",
                "\n",
                "\n",
                "print(hulu_percent, netflix_percent, disney_percent, prime_video_percent)"
            ]
        },
        {
            "attachments": {},
            "cell_type": "markdown",
            "metadata": {
                "azdata_cell_guid": "167cbd0d-ad9f-4f27-8066-e45dfdfaf421"
            },
            "source": [
                "\n",
                "Now join your `watchlist` data to the `shows` data using pandas or SQL. Verify that you joined the data correctly.\n",
                "\n",
                "Using this related dataset, come up with analytic code that answers these questions:\n",
                "1. The number of watchlist shows each streaming service has\n",
                "2. The percentage of your overall watchlist each streaming service has\n"
            ]
        },
        {
            "cell_type": "code",
            "execution_count": 41,
            "metadata": {
                "azdata_cell_guid": "b871523e-a476-4f3a-a6ac-2e251f140e84"
            },
            "outputs": [],
            "source": [
                "# Code here\n",
                "inner = pd.merge(data_df, df, how=\"inner\", left_on=\"Title\", right_on=\"Title\", indicator=True)"
            ]
        },
        {
            "cell_type": "code",
            "execution_count": 42,
            "metadata": {},
            "outputs": [
                {
                    "name": "stdout",
                    "output_type": "stream",
                    "text": [
                        "            Title  Importance_rank    ID  Year  Age    IMDb Rotten Tomatoes  \\\n",
                        "0  Peaky Blinders               10     7  2013  18+  8.8/10          93/100   \n",
                        "1           Alone                3   148  2015  16+  8.4/10          77/100   \n",
                        "2  Forged in Fire                4   427  2015   7+  8.4/10          65/100   \n",
                        "3          Dexter                7  3583  2006  18+  8.6/10          92/100   \n",
                        "4  River Monsters                2  2459  2009   7+  8.1/10          63/100   \n",
                        "\n",
                        "   Netflix  Hulu  Prime Video  Disney+  Type _merge  \n",
                        "0        1     0            0        0     1   both  \n",
                        "1        1     1            0        0     1   both  \n",
                        "2        1     1            1        0     1   both  \n",
                        "3        0     0            1        0     1   both  \n",
                        "4        0     1            1        0     1   both  \n"
                    ]
                }
            ],
            "source": [
                "print(inner)"
            ]
        },
        {
            "cell_type": "code",
            "execution_count": 49,
            "metadata": {},
            "outputs": [
                {
                    "name": "stdout",
                    "output_type": "stream",
                    "text": [
                        "0.3 0.3 0.0 0.3\n"
                    ]
                }
            ],
            "source": [
                "hulu_shows = inner[inner['Hulu'] == 1]\n",
                "hulu_watchlist = round(len(hulu_shows) / len(data_df), 2)\n",
                "prime_video_shows = inner[inner['Prime Video'] == 1]\n",
                "prime_video_watchlist = round(len(hulu_shows) / len(data_df), 2)\n",
                "disney_shows = inner[inner['Disney+'] == 1]\n",
                "disney_watchlist = round(len(disney_shows) / len(data_df), 2)\n",
                "netflix_shows = inner[inner['Netflix'] == 1]\n",
                "netlfix_watchlist = round(len(netflix_shows) / len(data_df), 2)\n",
                "print(hulu_watchlist, prime_video_watchlist, disney_watchlist, netlfix_watchlist)\n"
            ]
        },
        {
            "cell_type": "markdown",
            "metadata": {
                "azdata_cell_guid": "909689e4-1aae-41e3-b1f8-158ebe5ec3ca"
            },
            "source": [
                "## Results\n",
                "\n",
                "Now that you have done your analysis, make note of the answers to the following questions by editing the text cell:\n",
                "\n",
                "1. Was every show on your watchlist in the Kaggle dataset? Do you have any ideas as to why a show might not have been present?\n",
                "\n",
                "- No but they could of just not been on the streaming services or there could of been a spelling difference between my watch list and the data set\n",
                "\n",
                "2. Did you include a show or shows in your watchlist that is exclusive to one of the platforms? How might that have impacted your analysis?\n",
                "\n",
                "- Yes and it just shows that it is missing in the other services\n",
                "\n",
                "3. Which streaming service(s) offered the most shows on your watchlist? Which streaming service(s) offered the least?\n",
                "\n",
                "- forged in fire is on the most and peaky blinders and dexter are exclusives\n",
                "\n",
                "4. Based on the shows you want to watch and the results of your analysis, is there a streaming service you think would be a good fit for you?\n",
                "\n",
                "- All but disney plus are tied at 3."
            ]
        },
        {
            "cell_type": "code",
            "execution_count": 50,
            "metadata": {},
            "outputs": [],
            "source": [
                "con.close()\n"
            ]
        },
        {
            "cell_type": "markdown",
            "metadata": {},
            "source": [
                "# Bonus Mission\n",
                "\n",
                "We didn't end up using that `importance_rank` field, did we?\n",
                "\n",
                "Well, that was intentional! \n",
                "\n",
                "Your bonus mission is to come up with analysis that uses that field to determine, based on watchlist show importance_rank and number of watchlist shows available on a service, which platform you should subscribe to."
            ]
        },
        {
            "cell_type": "code",
            "execution_count": null,
            "metadata": {},
            "outputs": [],
            "source": [
                "# Code Here"
            ]
        }
    ],
    "metadata": {
        "kernelspec": {
            "display_name": "venv",
            "language": "python",
            "name": "python3"
        },
        "language_info": {
            "codemirror_mode": {
                "name": "ipython",
                "version": 3
            },
            "file_extension": ".py",
            "mimetype": "text/x-python",
            "name": "python",
            "nbconvert_exporter": "python",
            "pygments_lexer": "ipython3",
            "version": "3.12.5"
        }
    },
    "nbformat": 4,
    "nbformat_minor": 2
}
